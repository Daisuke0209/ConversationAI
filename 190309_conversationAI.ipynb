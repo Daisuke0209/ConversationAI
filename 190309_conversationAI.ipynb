{
  "nbformat": 4,
  "nbformat_minor": 0,
  "metadata": {
    "colab": {
      "name": "190309_conversationAI.ipynb",
      "version": "0.3.2",
      "provenance": [],
      "include_colab_link": true
    },
    "kernelspec": {
      "name": "python3",
      "display_name": "Python 3"
    }
  },
  "cells": [
    {
      "cell_type": "markdown",
      "metadata": {
        "id": "view-in-github",
        "colab_type": "text"
      },
      "source": [
        "<a href=\"https://colab.research.google.com/github/Daisuke0209/ConversationAI/blob/master/190309_conversationAI.ipynb\" target=\"_parent\"><img src=\"https://colab.research.google.com/assets/colab-badge.svg\" alt=\"Open In Colab\"/></a>"
      ]
    },
    {
      "metadata": {
        "id": "_NMvaIYaETD-",
        "colab_type": "text"
      },
      "cell_type": "markdown",
      "source": [
        "# 会話エンジンを作ってみる\n",
        "以下の記事を参考にしました\n",
        "\n",
        "[Python初心者に送る「人工知能の作り方」](http://sandmark.hateblo.jp/entry/2017/10/07/141339)"
      ]
    },
    {
      "metadata": {
        "id": "HWRmfWb4EEBZ",
        "colab_type": "code",
        "colab": {}
      },
      "cell_type": "code",
      "source": [
        "from random import choice\n",
        "class Responder:\n",
        "  def __init__(self,name):\n",
        "    self.name = name\n",
        "    \n",
        "#   def response(self,*args):\n",
        "#     pass\n",
        "  \n",
        "  def name(self):\n",
        "    return self.name\n",
        "\n",
        "class WhatResponder(Responder):\n",
        "  def response(self,text):\n",
        "    return '{}ってなに？'.format(text)\n",
        "  \n",
        "class RandomResponder(Responder):\n",
        "  def __init__(self,name):\n",
        "    #親クラスのinitメソッド呼び出し\n",
        "    super().__init__(name)\n",
        "    self.responses=[]\n",
        "    with open('/content/gdrive/My Drive/Datasets/Markov/random.txt',encoding='utf-8-sig') as f:\n",
        "      self.responses=[x for x in f.read().splitlines() if x]\n",
        "  \n",
        "  def response(self,text):\n",
        "    return choice(self.responses)"
      ],
      "execution_count": 0,
      "outputs": []
    },
    {
      "metadata": {
        "id": "oWniTTRTEMo6",
        "colab_type": "code",
        "colab": {}
      },
      "cell_type": "code",
      "source": [
        "class Unmo:\n",
        "  def __init__(self,name):\n",
        "    self.responders = {\n",
        "        'what':WhatResponder('What'),\n",
        "        'random':RandomResponder('Random'),\n",
        "    }\n",
        "    self.name=name\n",
        "    self.responder=self.responders['random']\n",
        "    \n",
        "  def dialogue(self,text):\n",
        "    chosen_key=choice(list(self.responders.keys()))\n",
        "    self.responder=self.responders[chosen_key]\n",
        "    return self.responder.response(text)\n",
        "  \n",
        "  def name(self):\n",
        "    return self.name\n",
        "  \n",
        "  def responder_name(self):\n",
        "    return self.responder.name"
      ],
      "execution_count": 0,
      "outputs": []
    },
    {
      "metadata": {
        "id": "5D74EIQLEOc2",
        "colab_type": "code",
        "colab": {}
      },
      "cell_type": "code",
      "source": [
        "ai=Unmo('prototype')\n",
        "print(ai.name)\n",
        "text = 'こんにちは'\n",
        "ai.dialogue(text)"
      ],
      "execution_count": 0,
      "outputs": []
    }
  ]
}